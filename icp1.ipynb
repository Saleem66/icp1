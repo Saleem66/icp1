{
  "nbformat": 4,
  "nbformat_minor": 0,
  "metadata": {
    "colab": {
      "provenance": [],
      "authorship_tag": "ABX9TyMp8M3qgYJPh3VfYvUakn/Z",
      "include_colab_link": true
    },
    "kernelspec": {
      "name": "python3",
      "display_name": "Python 3"
    },
    "language_info": {
      "name": "python"
    }
  },
  "cells": [
    {
      "cell_type": "markdown",
      "metadata": {
        "id": "view-in-github",
        "colab_type": "text"
      },
      "source": [
        "<a href=\"https://colab.research.google.com/github/Saleem66/icp1/blob/main/icp1.ipynb\" target=\"_parent\"><img src=\"https://colab.research.google.com/assets/colab-badge.svg\" alt=\"Open In Colab\"/></a>"
      ]
    },
    {
      "cell_type": "code",
      "execution_count": 9,
      "metadata": {
        "colab": {
          "base_uri": "https://localhost:8080/"
        },
        "id": "I0iiWQwy5SCn",
        "outputId": "306ed5b8-5b9f-4422-db14-dd8e71a7fb99"
      },
      "outputs": [
        {
          "output_type": "stream",
          "name": "stdout",
          "text": [
            "enter data : 56765\n",
            "65\n",
            "enter number 1 :5\n",
            "enter number 2 :4\n",
            "\n",
            " addition :  9\n",
            "substraction :  1\n",
            "divison :  1.25\n",
            "multiplication :  20\n",
            "enter string :1234\n",
            "1234\n",
            "Enter Students score : 21\n",
            "Grade = F\n"
          ]
        }
      ],
      "source": [
        "import random\n",
        "data = input(\"enter data : \")\n",
        "\n",
        "split =  random.randrange(2, len(data)-2)\n",
        "\n",
        "data = data.replace(data[split:],\"\")\n",
        "data = data[::-1]\n",
        "print(data)\n",
        "\n",
        "num1 = int(input(\"enter number 1 :\"))\n",
        "num2 = int(input(\"enter number 2 :\"))\n",
        "\n",
        "print(\"\\n addition : \",(num1+num2))\n",
        "print(\"substraction : \",(num1-num2))\n",
        "print(\"divison : \",(num1/num2))\n",
        "print(\"multiplication : \",(num1*num2))\n",
        "\n",
        "inputValue = input(\"enter string :\")\n",
        "\n",
        "inputValue = inputValue.replace(\"python\",\"pythons\")\n",
        "\n",
        "print(inputValue)\n",
        "\n",
        "marks = int(input(\"Enter Students score : \"))\n",
        "\n",
        "if(marks<=100 and marks>=90):\n",
        "    print(\"Grade = A\")\n",
        "elif(marks<=89 and marks>=80):\n",
        "     print(\"Grade = B\")\n",
        "elif(marks<=79 and marks>=70):\n",
        "     print(\"Grade = C\")\n",
        "elif(marks<=69 and marks>=60):\n",
        "     print(\"Grade = D\")\n",
        "elif(marks<=59 and marks>=0):\n",
        "     print(\"Grade = F\")"
      ]
    }
  ]
}